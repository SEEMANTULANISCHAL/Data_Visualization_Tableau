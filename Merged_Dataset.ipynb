{
  "nbformat": 4,
  "nbformat_minor": 0,
  "metadata": {
    "colab": {
      "provenance": [],
      "authorship_tag": "ABX9TyOJr10nUc66qMdphHkbNd/q",
      "include_colab_link": true
    },
    "kernelspec": {
      "name": "python3",
      "display_name": "Python 3"
    },
    "language_info": {
      "name": "python"
    }
  },
  "cells": [
    {
      "cell_type": "markdown",
      "metadata": {
        "id": "view-in-github",
        "colab_type": "text"
      },
      "source": [
        "<a href=\"https://colab.research.google.com/github/SEEMANTULANISCHAL/Data_Visualization_Tableau/blob/main/Merged_Dataset.ipynb\" target=\"_parent\"><img src=\"https://colab.research.google.com/assets/colab-badge.svg\" alt=\"Open In Colab\"/></a>"
      ]
    },
    {
      "cell_type": "code",
      "execution_count": null,
      "metadata": {
        "colab": {
          "base_uri": "https://localhost:8080/"
        },
        "id": "JHDB7A_B0dVH",
        "outputId": "b0c732bc-55b6-497e-cabe-de7a29c4ad99"
      },
      "outputs": [
        {
          "output_type": "stream",
          "name": "stdout",
          "text": [
            "         Player       Span  Mat  Inns  NO   Runs    HS    Ave     BF     SR  \\\n",
            "0  SR Tendulkar  1989-2012  463   452  41  18426  200*  44.83  21368  86.23   \n",
            "1       V Kohli  2008-2025  297   285  44  13963   183  57.93  14929  93.52   \n",
            "2    SC Ganguly  1992-2007  308   297  23  11221   183  40.95  15235  73.65   \n",
            "3     RG Sharma  2007-2025  268   260  36  10988   264  49.05  11854  92.69   \n",
            "4      R Dravid  1996-2011  340   314  39  10768   153  39.15  15127  71.18   \n",
            "\n",
            "  100  50   0    4s   6s   Team  \n",
            "0  49  96  20  2016  195  India  \n",
            "1  50  73  16  1310  152  India  \n",
            "2  22  71  16  1104  189  India  \n",
            "3  32  57  16  1024  338  India  \n",
            "4  12  82  13   942   42  India  \n"
          ]
        }
      ],
      "source": [
        "import pandas as pd\n",
        "\n",
        "# Load datasets\n",
        "india_df = pd.read_csv(\"/content/MOST_RUNS_IN_ODI - Team_India.csv\")\n",
        "australia_df = pd.read_csv(\"/content/MOST_RUNS_IN_ODI - Team_Australia.csv\")\n",
        "england_df = pd.read_csv(\"/content/MOST_RUNS_IN_ODI - Team_England.csv\")\n",
        "\n",
        "# Add 'Team' column to each dataset\n",
        "india_df[\"Team\"] = \"India\"\n",
        "australia_df[\"Team\"] = \"Australia\"\n",
        "england_df[\"Team\"] = \"England\"\n",
        "\n",
        "# Merge all datasets into one\n",
        "combined_df = pd.concat([india_df, australia_df, england_df], ignore_index=True)\n",
        "\n",
        "# Save the merged dataset as CSV\n",
        "#combined_df.to_csv(\"Merged_Cricket_ODI_Stats.csv\", index=False)\n",
        "\n",
        "# Display first few rows\n",
        "print(combined_df.head())\n"
      ]
    },
    {
      "cell_type": "code",
      "source": [
        "import pandas as pd\n",
        "\n",
        "# Load datasets\n",
        "india_df = pd.read_csv(\"/content/MOST_RUNS_IN_TEST - Team_India.csv\")\n",
        "australia_df = pd.read_csv(\"/content/MOST_RUNS_IN_TEST - Team_Australia.csv\")\n",
        "england_df = pd.read_csv(\"/content/MOST_RUNS_IN_TEST - Team_England.csv\")\n",
        "\n",
        "# Add 'Team' column to each dataset\n",
        "india_df[\"Team\"] = \"India\"\n",
        "australia_df[\"Team\"] = \"Australia\"\n",
        "england_df[\"Team\"] = \"England\"\n",
        "\n",
        "# Merge all datasets into one\n",
        "combined_df = pd.concat([india_df, australia_df, england_df], ignore_index=True)\n",
        "\n",
        "# Save the merged dataset as CSV\n",
        "combined_df.to_csv(\"Merged_Cricket_TEST_Stats.csv\", index=False)\n",
        "\n",
        "# Display first few rows\n",
        "print(combined_df.head())\n"
      ],
      "metadata": {
        "colab": {
          "base_uri": "https://localhost:8080/"
        },
        "id": "ZuEC_43EPau0",
        "outputId": "3b52e3c3-0622-47f0-a099-d9161598a1fc"
      },
      "execution_count": null,
      "outputs": [
        {
          "output_type": "stream",
          "name": "stdout",
          "text": [
            "         Player       Span  Mat  Inns  NO   Runs    HS    Ave      BF     SR  \\\n",
            "0  SR Tendulkar  1989-2013  200   329  33  15921  248*  53.78  29437+  54.04   \n",
            "1      R Dravid  1996-2012  163   284  32  13265   270  52.63   31184  42.53   \n",
            "2   SM Gavaskar  1971-1987  125   214  16  10122  236*  51.12  14184+  43.35   \n",
            "3       V Kohli  2011-2025  123   210  13   9230  254*  46.85   16608  55.57   \n",
            "4    VVS Laxman  1996-2012  134   225  34   8781   281  45.97   17785  49.37   \n",
            "\n",
            "  100  50   0     4s  6s   Team  \n",
            "0  51  68  14  2058+  69  India  \n",
            "1  36  63   7   1651  21  India  \n",
            "2  34  45  12   908+  26  India  \n",
            "3  30  31  15   1027  30  India  \n",
            "4  17  56  14   1135   5  India  \n"
          ]
        }
      ]
    },
    {
      "cell_type": "code",
      "source": [
        "import pandas as pd\n",
        "\n",
        "# Load datasets\n",
        "india_df = pd.read_csv(\"/content/MOST_RUNS_IN_T20 - Team_India.csv\")\n",
        "australia_df = pd.read_csv(\"/content/MOST_RUNS_IN_T20 - Team_Australia.csv\")\n",
        "england_df = pd.read_csv(\"/content/MOST_RUNS_IN_T20 - Team_England.csv\")\n",
        "\n",
        "# Add 'Team' column to each dataset\n",
        "india_df[\"Team\"] = \"India\"\n",
        "australia_df[\"Team\"] = \"Australia\"\n",
        "england_df[\"Team\"] = \"England\"\n",
        "\n",
        "# Merge all datasets into one\n",
        "combined_df = pd.concat([india_df, australia_df, england_df], ignore_index=True)\n",
        "\n",
        "# Save the merged dataset as CSV\n",
        "combined_df.to_csv(\"Merged_Cricket_T20_Stats.csv\", index=False)\n",
        "\n",
        "# Display first few rows\n",
        "print(combined_df.head())\n"
      ],
      "metadata": {
        "colab": {
          "base_uri": "https://localhost:8080/"
        },
        "id": "TDPwRVDsPn0b",
        "outputId": "6d5836c7-2241-419d-a7c5-c637eda5b37d"
      },
      "execution_count": null,
      "outputs": [
        {
          "output_type": "stream",
          "name": "stdout",
          "text": [
            "      Player       Span  Mat  Inns  NO  Runs    HS    Ave    BF      SR 100  \\\n",
            "0  RG Sharma  2007-2024  159   151  19  4231  121*  32.05  3003  140.89   5   \n",
            "1    V Kohli  2010-2024  125   117  31  4188  122*  48.69  3056  137.04   1   \n",
            "2   SA Yadav  2021-2025   83    79  11  2598   117  38.20  1555  167.07   4   \n",
            "3   KL Rahul  2016-2022   72    68   8  2265  110*  37.75  1628  139.12   2   \n",
            "4  HH Pandya  2016-2025  114    90  25  1812   71*  27.87  1279  141.67   -   \n",
            "\n",
            "   50   0   4s   6s   Team  \n",
            "0  32  12  383  205  India  \n",
            "1  38   7  369  124  India  \n",
            "2  21   5  237  146  India  \n",
            "3  22   5  191   99  India  \n",
            "4   5   3  135   95  India  \n"
          ]
        }
      ]
    }
  ]
}